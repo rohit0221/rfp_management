{
 "cells": [
  {
   "cell_type": "code",
   "execution_count": 1,
   "metadata": {},
   "outputs": [
    {
     "name": "stdout",
     "output_type": "stream",
     "text": [
      "✅ Historical pricing data saved to ./data\\historical_pricing.csv\n"
     ]
    }
   ],
   "source": [
    "import csv\n",
    "import os\n",
    "\n",
    "# Define the file path\n",
    "output_dir = \"./data\"\n",
    "output_file = os.path.join(output_dir, \"historical_pricing.csv\")\n",
    "\n",
    "# Ensure the directory exists\n",
    "os.makedirs(output_dir, exist_ok=True)\n",
    "\n",
    "# Define historical pricing data\n",
    "historical_data = [\n",
    "    [\"Supplier Name\", \"Year\", \"Service\", \"Price ($)\"],\n",
    "    [\"Supplier A\", 2021, \"Cloud Storage\", 95000],\n",
    "    [\"Supplier A\", 2022, \"Cloud Storage\", 98000],\n",
    "    [\"Supplier A\", 2023, \"Cloud Storage\", 100000],\n",
    "    [\"Supplier B\", 2021, \"Cloud Storage\", 90000],\n",
    "    [\"Supplier B\", 2022, \"Cloud Storage\", 94000],\n",
    "    [\"Supplier B\", 2023, \"Cloud Storage\", 95000],\n",
    "    [\"Supplier C\", 2021, \"Cloud Storage\", 102000],\n",
    "    [\"Supplier C\", 2022, \"Cloud Storage\", 107000],\n",
    "    [\"Supplier C\", 2023, \"Cloud Storage\", 110000],\n",
    "]\n",
    "\n",
    "# Write to CSV\n",
    "with open(output_file, mode=\"w\", newline=\"\") as file:\n",
    "    writer = csv.writer(file)\n",
    "    writer.writerows(historical_data)\n",
    "\n",
    "print(f\"✅ Historical pricing data saved to {output_file}\")\n"
   ]
  },
  {
   "cell_type": "code",
   "execution_count": null,
   "metadata": {},
   "outputs": [],
   "source": []
  }
 ],
 "metadata": {
  "kernelspec": {
   "display_name": ".venv",
   "language": "python",
   "name": "python3"
  },
  "language_info": {
   "codemirror_mode": {
    "name": "ipython",
    "version": 3
   },
   "file_extension": ".py",
   "mimetype": "text/x-python",
   "name": "python",
   "nbconvert_exporter": "python",
   "pygments_lexer": "ipython3",
   "version": "3.12.8"
  }
 },
 "nbformat": 4,
 "nbformat_minor": 2
}
