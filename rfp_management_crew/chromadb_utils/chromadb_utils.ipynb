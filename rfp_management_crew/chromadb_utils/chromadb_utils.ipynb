{
 "cells": [
  {
   "cell_type": "code",
   "execution_count": 1,
   "metadata": {},
   "outputs": [],
   "source": [
    "import chromadb\n"
   ]
  },
  {
   "cell_type": "code",
   "execution_count": 2,
   "metadata": {},
   "outputs": [],
   "source": [
    "\n",
    "# Connect to the existing ChromaDB\n",
    "client = chromadb.PersistentClient(path=\"../db\")  # Change path if needed\n"
   ]
  },
  {
   "cell_type": "code",
   "execution_count": 3,
   "metadata": {},
   "outputs": [
    {
     "name": "stdout",
     "output_type": "stream",
     "text": [
      "Existing Collections: [Collection(name=embedchain_store)]\n"
     ]
    }
   ],
   "source": [
    "\n",
    "# List existing collections (stored data)\n",
    "collections = client.list_collections()\n",
    "print(\"Existing Collections:\", collections)\n"
   ]
  },
  {
   "cell_type": "code",
   "execution_count": 6,
   "metadata": {},
   "outputs": [],
   "source": [
    "\n",
    "# Choose the collection CrewAI is using (it should be named by your tool)\n",
    "collection_name = \"embedchain_store\"  # This may vary, check with `list_collections()`\n",
    "collection = client.get_collection(name=collection_name)\n"
   ]
  },
  {
   "cell_type": "code",
   "execution_count": 10,
   "metadata": {},
   "outputs": [
    {
     "name": "stdout",
     "output_type": "stream",
     "text": [
      "\n",
      "📌 Stored Data in ChromaDB:\n",
      "1. Supplier: Supplier A, Price: 1000, Delivery Time (weeks): 2, Contract Terms: 1-year fixed contract, Payment Terms: 50% upfront, 50% on completion, Warranty: 1 year, SLA (Service Level Agreement): Guaranteed 99.9% uptime\n",
      "2. Supplier: Supplier B, Price: 950, Delivery Time (weeks): 1, Contract Terms: 6-month trial period with extension option, Payment Terms: Net 30 days, Warranty: 2 years, SLA (Service Level Agreement): Guaranteed 99% uptime with penalties\n",
      "3. Supplier: Supplier C, Price: 1100, Delivery Time (weeks): 3, Contract Terms: 2-year contract with a 1-month exit clause, Payment Terms: 30% upfront, 70% on delivery, Warranty: None, SLA (Service Level Agreement): No uptime guarantees\n",
      "4. Year: 2021, Average Price: 980, Price Variability: Low\n",
      "5. Year: 2022, Average Price: 1005, Price Variability: Medium\n",
      "6. Year: 2023, Average Price: 1020, Price Variability: High\n",
      "7. ./data/price_forecasts.csv\n",
      "8. Region: North America, Supply Index: 80, Demand Index: 85\n",
      "9. Region: Europe, Supply Index: 70, Demand Index: 65\n",
      "10. Region: Asia, Supply Index: 90, Demand Index: 95\n",
      "11. ./data/negotiated_terms.txt\n"
     ]
    }
   ],
   "source": [
    "\n",
    "# Retrieve all stored records\n",
    "stored_docs = collection.get()\n",
    "print(\"\\n📌 Stored Data in ChromaDB:\")\n",
    "for i, doc in enumerate(stored_docs[\"documents\"]):\n",
    "    print(f\"{i+1}. {doc}\")\n"
   ]
  },
  {
   "cell_type": "code",
   "execution_count": null,
   "metadata": {},
   "outputs": [],
   "source": []
  }
 ],
 "metadata": {
  "kernelspec": {
   "display_name": ".venv",
   "language": "python",
   "name": "python3"
  },
  "language_info": {
   "codemirror_mode": {
    "name": "ipython",
    "version": 3
   },
   "file_extension": ".py",
   "mimetype": "text/x-python",
   "name": "python",
   "nbconvert_exporter": "python",
   "pygments_lexer": "ipython3",
   "version": "3.12.8"
  }
 },
 "nbformat": 4,
 "nbformat_minor": 2
}
