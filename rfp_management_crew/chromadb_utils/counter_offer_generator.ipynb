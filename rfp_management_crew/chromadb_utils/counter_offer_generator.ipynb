{
 "cells": [
  {
   "cell_type": "code",
   "execution_count": 1,
   "metadata": {},
   "outputs": [
    {
     "name": "stderr",
     "output_type": "stream",
     "text": [
      "C:\\Users\\neural_ninja\\AppData\\Local\\Temp\\ipykernel_10956\\166298102.py:7: LangChainDeprecationWarning: The class `ChatOpenAI` was deprecated in LangChain 0.0.10 and will be removed in 1.0. An updated version of the class exists in the :class:`~langchain-openai package and should be used instead. To use it run `pip install -U :class:`~langchain-openai` and import as `from :class:`~langchain_openai import ChatOpenAI``.\n",
      "  llm = ChatOpenAI(model_name=\"gpt-4o-mini\", temperature=0.7)\n"
     ]
    }
   ],
   "source": [
    "import os\n",
    "from langchain_community.chat_models import ChatOpenAI\n",
    "from langchain.prompts import PromptTemplate\n",
    "from crewai.tools import tool\n",
    "\n",
    "# ✅ Initialize LLM\n",
    "llm = ChatOpenAI(model_name=\"gpt-4o-mini\", temperature=0.7)\n",
    "\n",
    "def read_markdown_file(file_path):\n",
    "    \"\"\"Reads the contents of a markdown file.\"\"\"\n",
    "    if not os.path.exists(file_path):\n",
    "        print(f\"⚠️ Warning: {file_path} not found!\")\n",
    "        return \"\"\n",
    "    with open(file_path, \"r\", encoding=\"utf-8\") as file:\n",
    "        return file.read()\n",
    "\n",
    "def generate_counteroffers():\n",
    "    \"\"\"\n",
    "    CrewAI tool to generate strategic counteroffers based on RFP analysis, pricing risk, negotiation strategy, and negotiation email.\n",
    "    \"\"\"\n",
    "    # ✅ Read input markdown files\n",
    "    rfp_analysis = read_markdown_file(\"../outputs/rfp_comparative_analysis.md\")\n",
    "    pricing_risk = read_markdown_file(\"../outputs/pricing_risk_analysis.md\")\n",
    "    negotiation_charter = read_markdown_file(\"../outputs/negotiation_charter.md\")\n",
    "    negotiation_email = read_markdown_file(\"../outputs/negotiation_email.md\")\n",
    "    \n",
    "    # ✅ Combine context for LLM\n",
    "    context = f\"\"\"\n",
    "    **RFP Comparative Analysis:**\n",
    "    {rfp_analysis}\n",
    "    \n",
    "    **Pricing Risk Analysis:**\n",
    "    {pricing_risk}\n",
    "    \n",
    "    **Negotiation Charter:**\n",
    "    {negotiation_charter}\n",
    "    \n",
    "    **Negotiation Email Sent:**\n",
    "    {negotiation_email}\n",
    "    \"\"\"\n",
    "    \n",
    "    # ✅ Define LLM prompt\n",
    "    prompt_template = PromptTemplate(\n",
    "        input_variables=[\"context\"],\n",
    "        template=\"\"\"\n",
    "        You are a **Big 4 Consulting Director** responsible for **supplier negotiations**.\n",
    "        Based on the provided RFP analysis, pricing risks, negotiation charter, and negotiation email, generate **highly strategic counteroffers** to anticipated supplier responses.\n",
    "        \n",
    "        ---\n",
    "        {context}\n",
    "        ---\n",
    "        \n",
    "        **Counteroffer Strategy:**\n",
    "        - Identify key negotiation areas (pricing, contract flexibility, SLAs, support, implementation fees).\n",
    "        - Predict possible supplier responses based on industry negotiation trends.\n",
    "        - Generate **structured counteroffers** that maximize value for our organization.\n",
    "        \n",
    "        **Structured Output Format:**\n",
    "        \n",
    "        ## 🔹 Strategic Counteroffers\n",
    "        | **Expected Supplier Response** | **Counteroffer Strategy** |\n",
    "        |--------------------------------|----------------------------|\n",
    "        | \"Our pricing is fixed\" | Offer a longer contract in exchange for a discount. |\n",
    "        | \"We can't change SLAs\" | Demand higher uptime with penalty clauses. |\n",
    "        | \"Implementation costs are mandatory\" | Request free implementation for multi-year deals. |\n",
    "        | \"No flexibility in contract lock-in\" | Push for shorter commitment periods with extensions. |\n",
    "        \n",
    "        Ensure that the counteroffers are aligned with **business objectives** and are **persuasive yet realistic**.\n",
    "        \"\"\"\n",
    "    )\n",
    "    \n",
    "    # ✅ Generate counteroffers using LLM\n",
    "    chain = prompt_template | llm\n",
    "    counteroffer_content = chain.invoke({\"context\": context})\n",
    "    \n",
    "    return counteroffer_content.content if hasattr(counteroffer_content, \"content\") else counteroffer_content\n"
   ]
  },
  {
   "cell_type": "code",
   "execution_count": 3,
   "metadata": {},
   "outputs": [],
   "source": [
    "counter_offer=generate_counteroffers()"
   ]
  },
  {
   "cell_type": "code",
   "execution_count": 5,
   "metadata": {},
   "outputs": [
    {
     "name": "stdout",
     "output_type": "stream",
     "text": [
      "## 🔹 Strategic Counteroffers\n",
      "\n",
      "| **Expected Supplier Response**                                   | **Counteroffer Strategy**                                                                                      |\n",
      "|---------------------------------------------------------------|---------------------------------------------------------------------------------------------------------------|\n",
      "| \"Our pricing is fixed.\"                                       | Propose a commitment to a longer-term contract (e.g., 3 years) in exchange for a 10% discount on the base price. Highlight the stability this provides for both parties. |\n",
      "| \"We can't change SLAs.\"                                      | Request enhanced SLAs that guarantee 99.9% uptime, with penalty clauses for service outages. Offer to share performance metrics to ensure accountability. |\n",
      "| \"Implementation costs are mandatory.\"                        | Suggest that implementation fees be waived if a multi-year contract is signed, emphasizing the long-term partnership aspect. If they resist, propose a reduced implementation fee tied to performance metrics. |\n",
      "| \"No flexibility in contract lock-in.\"                         | Counter by proposing a shorter initial commitment period (e.g., 6 months) with the option to extend based on performance and satisfaction. This allows flexibility while still providing them a pathway to long-term business. |\n",
      "| \"We cannot lower the additional instance costs.\"              | Offer to negotiate volume commitments that could lead to lower instance costs, such as a tiered pricing model based on usage levels. Emphasize the potential for increased demand as a result of partnership growth. |\n",
      "| \"Our advanced features justify the higher implementation fee.\"| Highlight that while advanced features are appreciated, they may not be necessary for the initial phase. Propose a phased approach, starting with essential features and adding advanced functionalities later at a reduced rate. |\n",
      "| \"We have other potential clients interested.\"                  | Leverage this information to negotiate exclusivity for a set period (e.g., 3 months) in exchange for a better pricing model or additional services, thereby ensuring they prioritize your account. |\n",
      "| \"Our pricing reflects market standards.\"                      | Counter by presenting market data showing more competitive pricing from similar suppliers. Propose a pricing review after 12 months based on market trends to ensure competitiveness. |\n",
      "| \"We cannot offer performance-based incentives.\"               | Suggest incorporating a tiered incentive structure tied to key performance indicators (KPIs) that are mutually beneficial, making it a win-win scenario for both parties. |\n",
      "| \"We need upfront payment for the first year.\"                | Propose a split payment structure where a portion is paid upfront and the rest is tied to milestones achieved during the project lifecycle, ensuring alignment on deliverables. |\n",
      "\n",
      "These counteroffers are designed to maximize value while maintaining a collaborative approach, ensuring that both our organization’s objectives and the suppliers’ needs are addressed.\n"
     ]
    }
   ],
   "source": [
    "print(counter_offer)"
   ]
  },
  {
   "cell_type": "code",
   "execution_count": null,
   "metadata": {},
   "outputs": [],
   "source": []
  }
 ],
 "metadata": {
  "kernelspec": {
   "display_name": ".venv",
   "language": "python",
   "name": "python3"
  },
  "language_info": {
   "codemirror_mode": {
    "name": "ipython",
    "version": 3
   },
   "file_extension": ".py",
   "mimetype": "text/x-python",
   "name": "python",
   "nbconvert_exporter": "python",
   "pygments_lexer": "ipython3",
   "version": "3.12.8"
  }
 },
 "nbformat": 4,
 "nbformat_minor": 2
}
