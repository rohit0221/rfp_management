{
 "cells": [
  {
   "cell_type": "code",
   "execution_count": 1,
   "metadata": {},
   "outputs": [
    {
     "name": "stdout",
     "output_type": "stream",
     "text": [
      "Dummy supplier proposals file created at ./data/supplier_proposals.csv\n"
     ]
    }
   ],
   "source": [
    "import pandas as pd\n",
    "import os\n",
    "\n",
    "# Ensure the data directory exists\n",
    "os.makedirs(\"./data\", exist_ok=True)\n",
    "\n",
    "# Define supplier proposal data\n",
    "data = {\n",
    "    \"Supplier\": [\"Supplier A\", \"Supplier B\", \"Supplier C\"],\n",
    "    \"Price\": [1000, 950, 1100],\n",
    "    \"Delivery Time (weeks)\": [2, 1, 3],\n",
    "    \"Contract Terms\": [\n",
    "        \"1-year fixed contract\",\n",
    "        \"6-month trial period with extension option\",\n",
    "        \"2-year contract with a 1-month exit clause\"\n",
    "    ],\n",
    "    \"Payment Terms\": [\n",
    "        \"50% upfront, 50% on completion\",\n",
    "        \"Net 30 days\",\n",
    "        \"30% upfront, 70% on delivery\"\n",
    "    ],\n",
    "    \"Warranty\": [\"1 year\", \"2 years\", \"None\"],\n",
    "    \"SLA (Service Level Agreement)\": [\n",
    "        \"Guaranteed 99.9% uptime\",\n",
    "        \"Guaranteed 99% uptime with penalties\",\n",
    "        \"No uptime guarantees\"\n",
    "    ]\n",
    "}\n",
    "\n",
    "# Create and save CSV file\n",
    "df = pd.DataFrame(data)\n",
    "csv_path = \"./data/supplier_proposals.csv\"\n",
    "df.to_csv(csv_path, index=False)\n",
    "\n",
    "print(f\"Dummy supplier proposals file created at {csv_path}\")\n"
   ]
  },
  {
   "cell_type": "code",
   "execution_count": 2,
   "metadata": {},
   "outputs": [
    {
     "name": "stdout",
     "output_type": "stream",
     "text": [
      "All required files have been created successfully.\n"
     ]
    }
   ],
   "source": [
    "# Historical Pricing Data\n",
    "historical_data = {\n",
    "    \"Year\": [2021, 2022, 2023],\n",
    "    \"Average Price\": [980, 1005, 1020],\n",
    "    \"Price Variability\": [\"Low\", \"Medium\", \"High\"]\n",
    "}\n",
    "pd.DataFrame(historical_data).to_csv(\"./data/historical_pricing.csv\", index=False)\n",
    "\n",
    "# Commodity Price Forecasts\n",
    "commodity_data = {\n",
    "    \"Commodity\": [\"Steel\", \"Aluminum\", \"Copper\"],\n",
    "    \"Forecasted Price\": [1100, 950, 1025],\n",
    "    \"Trend\": [\"Upward\", \"Stable\", \"Downward\"]\n",
    "}\n",
    "pd.DataFrame(commodity_data).to_csv(\"./data/commodity_forecasts.csv\", index=False)\n",
    "\n",
    "# Supply Demand Data\n",
    "supply_demand_data = {\n",
    "    \"Region\": [\"North America\", \"Europe\", \"Asia\"],\n",
    "    \"Supply Index\": [80, 70, 90],\n",
    "    \"Demand Index\": [85, 65, 95]\n",
    "}\n",
    "pd.DataFrame(supply_demand_data).to_csv(\"./data/supply_demand.csv\", index=False)\n",
    "\n",
    "# Negotiation Terms\n",
    "negotiation_terms = {\n",
    "    \"Term\": [\"Payment Delay\", \"Bulk Discount\", \"Delivery Schedule\"],\n",
    "    \"Supplier A\": [\"30 days\", \"5% off\", \"2 weeks\"],\n",
    "    \"Supplier B\": [\"Net 45\", \"3% off\", \"1 week\"],\n",
    "    \"Supplier C\": [\"Net 60\", \"No discount\", \"3 weeks\"]\n",
    "}\n",
    "pd.DataFrame(negotiation_terms).to_csv(\"./data/negotiation_terms.csv\", index=False)\n",
    "\n",
    "# Negotiated Terms\n",
    "negotiated_terms = {\n",
    "    \"Term\": [\"Payment Delay\", \"Bulk Discount\", \"Delivery Schedule\"],\n",
    "    \"Final Agreement\": [\"Net 30\", \"4% off\", \"1.5 weeks\"]\n",
    "}\n",
    "pd.DataFrame(negotiated_terms).to_csv(\"./data/negotiated_terms.csv\", index=False)\n",
    "\n",
    "# Drafted Contract\n",
    "with open(\"./data/drafted_contract.txt\", \"w\") as f:\n",
    "    f.write(\"This contract is drafted based on agreed terms. Key terms: Payment Net 30, Bulk Discount 4%, Delivery 1.5 weeks.\")\n",
    "\n",
    "print(\"All required files have been created successfully.\")\n"
   ]
  },
  {
   "cell_type": "code",
   "execution_count": null,
   "metadata": {},
   "outputs": [],
   "source": []
  }
 ],
 "metadata": {
  "kernelspec": {
   "display_name": ".venv",
   "language": "python",
   "name": "python3"
  },
  "language_info": {
   "codemirror_mode": {
    "name": "ipython",
    "version": 3
   },
   "file_extension": ".py",
   "mimetype": "text/x-python",
   "name": "python",
   "nbconvert_exporter": "python",
   "pygments_lexer": "ipython3",
   "version": "3.12.8"
  }
 },
 "nbformat": 4,
 "nbformat_minor": 2
}
